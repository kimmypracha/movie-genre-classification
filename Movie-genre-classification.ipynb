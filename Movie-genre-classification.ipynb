{
 "cells": [
  {
   "cell_type": "code",
   "execution_count": 2,
   "metadata": {},
   "outputs": [
    {
     "name": "stdout",
     "output_type": "stream",
     "text": [
      "Requirement already satisfied: scikit-multilearn in /anaconda3/lib/python3.7/site-packages (0.2.0)\n",
      "Requirement already satisfied: langdetect in /anaconda3/lib/python3.7/site-packages (1.0.7)\n",
      "Requirement already satisfied: six in /anaconda3/lib/python3.7/site-packages (from langdetect) (1.12.0)\n"
     ]
    }
   ],
   "source": [
    "import pickle\n",
    "import numpy as np\n",
    "import pandas as pd\n",
    "!pip install scikit-multilearn\n",
    "!pip install langdetect\n",
    "from skmultilearn.adapt import MLkNN\n",
    "from scipy.sparse import csr_matrix, lil_matrix\n",
    "from sklearn.metrics import accuracy_score\n",
    "from sklearn import metrics\n",
    "from sklearn.feature_extraction.text import TfidfVectorizer\n",
    "from sklearn.preprocessing import Normalizer\n",
    "from sklearn.decomposition import TruncatedSVD\n",
    "from sklearn.model_selection import GridSearchCV\n",
    "from sklearn.pipeline import Pipeline\n",
    "from langdetect import detect\n",
    "from sklearn.model_selection import train_test_split\n",
    "import nltk\n",
    "from nltk.corpus import stopwords\n",
    "from nltk.stem.porter import PorterStemmer\n",
    "from sklearn.model_selection import GridSearchCV"
   ]
  },
  {
   "cell_type": "code",
   "execution_count": 3,
   "metadata": {},
   "outputs": [],
   "source": [
    "def classify_genre(predictions):\n",
    "    columns = ['Action','Adventure','Animation','Comedy','Crime','Documentary','Drama','Family','Fantasy','Mystery','Reality-TV','Romance','Sci-Fi','Thriller']\n",
    "    ans = []\n",
    "    for prediction in np.array(predictions):\n",
    "        tmp = []\n",
    "        for i in range(14):\n",
    "            if prediction[i] == 1:\n",
    "                tmp.append(columns[i])\n",
    "        ans.append(tmp)\n",
    "    return ans"
   ]
  },
  {
   "cell_type": "code",
   "execution_count": 4,
   "metadata": {},
   "outputs": [],
   "source": [
    "def clean_text(corpuses):\n",
    "    ans = []\n",
    "    stop_words = stopwords.words('english')\n",
    "    porter = PorterStemmer()\n",
    "    for corpus in corpuses:\n",
    "        corpus = ' '.join([porter.stem(x.lower()) for x in nltk.word_tokenize(corpus) if x.isalpha() and x not in stop_words])\n",
    "        ans.append(corpus)\n",
    "    return np.array(ans)"
   ]
  },
  {
   "cell_type": "code",
   "execution_count": 5,
   "metadata": {},
   "outputs": [],
   "source": [
    "# Read a pickle file that contain tuples of only english movie plot and binary representation of genres\n",
    "with open('only_en_x_y_data.pkl','rb') as fp: \n",
    "      x_data, y_data = pickle.load(fp)\n",
    "X_train, X_test, Y_train, Y_test = train_test_split(x_data,y_data,test_size=0.33) # Split dataset with ratio 2:1"
   ]
  },
  {
   "cell_type": "code",
   "execution_count": 6,
   "metadata": {},
   "outputs": [],
   "source": [
    "trans = TfidfVectorizer(min_df=2) # Create a TF-IDF Vector transformer\n",
    "X_train_vec = trans.fit_transform(X_train) # Fit the transformer to train dataset and transform them\n",
    "X_test_vec = trans.transform(X_test) # Transform test data set to vector based on train dataset"
   ]
  },
  {
   "cell_type": "code",
   "execution_count": 7,
   "metadata": {},
   "outputs": [
    {
     "data": {
      "text/plain": [
       "MLkNN(ignore_first_neighbours=0, k=1, s=0.5)"
      ]
     },
     "execution_count": 7,
     "metadata": {},
     "output_type": "execute_result"
    }
   ],
   "source": [
    "new_clf = MLkNN(k=1,s=0.5) # Create a MLkNN model with k = 1 and smoothness (alpha value) = 0.5\n",
    "new_clf.fit(X_train_vec,lil_matrix(Y_train)) # Train the model (We have to use sparse matrix(lil_matrix))"
   ]
  },
  {
   "cell_type": "code",
   "execution_count": 8,
   "metadata": {},
   "outputs": [
    {
     "data": {
      "text/plain": [
       "0.6091585127201565"
      ]
     },
     "execution_count": 8,
     "metadata": {},
     "output_type": "execute_result"
    }
   ],
   "source": [
    "prediction = new_clf.predict(X_test_vec) # Keep the result of prediction in a variable to avoid redundant calculation\n",
    "accuracy_score(prediction,Y_test) # Use this one as a criteria to choose a classifier"
   ]
  },
  {
   "cell_type": "code",
   "execution_count": 9,
   "metadata": {},
   "outputs": [
    {
     "name": "stdout",
     "output_type": "stream",
     "text": [
      "              precision    recall  f1-score   support\n",
      "\n",
      "           0       0.70      0.68      0.69      4211\n",
      "           1       0.67      0.64      0.66      3509\n",
      "           2       0.72      0.67      0.69      3970\n",
      "           3       0.76      0.73      0.74     11363\n",
      "           4       0.62      0.66      0.64      4635\n",
      "           5       0.54      0.57      0.55      3683\n",
      "           6       0.79      0.81      0.80     14830\n",
      "           7       0.71      0.64      0.67      5704\n",
      "           8       0.71      0.65      0.68      2555\n",
      "           9       0.62      0.63      0.63      3875\n",
      "          10       0.66      0.68      0.67      3892\n",
      "          11       0.83      0.79      0.81      6594\n",
      "          12       0.69      0.67      0.68      2972\n",
      "          13       0.59      0.61      0.60      2846\n",
      "\n",
      "   micro avg       0.71      0.70      0.71     74639\n",
      "   macro avg       0.68      0.67      0.68     74639\n",
      "weighted avg       0.71      0.70      0.71     74639\n",
      " samples avg       0.64      0.63      0.63     74639\n",
      "\n"
     ]
    },
    {
     "name": "stderr",
     "output_type": "stream",
     "text": [
      "//anaconda3/lib/python3.7/site-packages/sklearn/metrics/classification.py:1437: UndefinedMetricWarning: Precision and F-score are ill-defined and being set to 0.0 in samples with no predicted labels.\n",
      "  'precision', 'predicted', average, warn_for)\n",
      "//anaconda3/lib/python3.7/site-packages/sklearn/metrics/classification.py:1439: UndefinedMetricWarning: Recall and F-score are ill-defined and being set to 0.0 in samples with no true labels.\n",
      "  'recall', 'true', average, warn_for)\n"
     ]
    }
   ],
   "source": [
    "print(metrics.classification_report(prediction,Y_test)) # Use this data to analyze"
   ]
  },
  {
   "cell_type": "code",
   "execution_count": 18,
   "metadata": {},
   "outputs": [
    {
     "name": "stdout",
     "output_type": "stream",
     "text": [
      "ninja want to be hokage apart from father\n"
     ]
    },
    {
     "data": {
      "text/plain": [
       "[['Action', 'Adventure', 'Animation', 'Drama', 'Fantasy']]"
      ]
     },
     "execution_count": 18,
     "metadata": {},
     "output_type": "execute_result"
    }
   ],
   "source": [
    "plot = input('') # Use input to be easier when we have to test\n",
    "data = np.array([plot]) # numpy array is more friendly than list\n",
    "data = trans.transform(clean_text(data))\n",
    "classify_genre(new_clf.predict(data).todense())"
   ]
  },
  {
   "cell_type": "code",
   "execution_count": null,
   "metadata": {},
   "outputs": [],
   "source": []
  }
 ],
 "metadata": {
  "kernelspec": {
   "display_name": "Python 3",
   "language": "python",
   "name": "python3"
  },
  "language_info": {
   "codemirror_mode": {
    "name": "ipython",
    "version": 3
   },
   "file_extension": ".py",
   "mimetype": "text/x-python",
   "name": "python",
   "nbconvert_exporter": "python",
   "pygments_lexer": "ipython3",
   "version": "3.7.3"
  }
 },
 "nbformat": 4,
 "nbformat_minor": 2
}
